{
 "cells": [
  {
   "cell_type": "code",
   "execution_count": 1,
   "metadata": {},
   "outputs": [
    {
     "name": "stdout",
     "output_type": "stream",
     "text": [
      "Patrick's current working directory is: c:\\Users\\patme\\OneDrive\\Desktop\\Data_Science\\Python\\codes\\Philant_Tutorials\n"
     ]
    }
   ],
   "source": [
    "# Here is a Function to display the current directory the file is running.\n",
    "\n",
    "# Importing the os module\n",
    "import os\n",
    "# Function to display the current directory the file is running. \n",
    "\n",
    "def show_current_working_directory():\n",
    "    current_directory = os.getcwd()\n",
    "    print(\"Patrick's current working directory is:\", current_directory)\n",
    "\n",
    "# Now we show the current working directory\n",
    "show_current_working_directory()\n",
    "    "
   ]
  },
  {
   "cell_type": "code",
   "execution_count": 2,
   "metadata": {},
   "outputs": [
    {
     "name": "stdout",
     "output_type": "stream",
     "text": [
      "Patrick's new current working directory is: c:\\Users\\patme\\OneDrive\\Desktop\\Data_Science\\Python\\codes\n"
     ]
    }
   ],
   "source": [
    "# Using the os module to change the working directory on one step up\n",
    "\n",
    "import os\n",
    "\n",
    "def one_step_up_working_directory():\n",
    "    os.chdir(\"../\")\n",
    "    new_directory = os.getcwd()\n",
    "    print(\"Patrick's new current working directory is:\", new_directory)\n",
    "\n",
    "# Now we show Patrick's new current working directory\n",
    "one_step_up_working_directory()"
   ]
  },
  {
   "cell_type": "code",
   "execution_count": 3,
   "metadata": {},
   "outputs": [
    {
     "name": "stdout",
     "output_type": "stream",
     "text": [
      "Patrick's new current working directory is: c:\\Users\\patme\\OneDrive\\Desktop\\Data_Science\\Python\n"
     ]
    }
   ],
   "source": [
    "# Using the os module to change the working directory on one step up\n",
    "\n",
    "import os\n",
    "\n",
    "def one_step_up_working_directory():\n",
    "    os.chdir(\"../\")\n",
    "    new_directory = os.getcwd()\n",
    "    print(\"Patrick's new current working directory is:\", new_directory)\n",
    "\n",
    "# Now we show Patrick's new current working directory\n",
    "one_step_up_working_directory()"
   ]
  },
  {
   "cell_type": "code",
   "execution_count": 4,
   "metadata": {},
   "outputs": [
    {
     "name": "stdout",
     "output_type": "stream",
     "text": [
      "Patrick's new current working directory is: c:\\Users\\patme\\OneDrive\\Desktop\\Data_Science\n"
     ]
    }
   ],
   "source": [
    "# Using the os module to change the working directory on one step up\n",
    "\n",
    "import os\n",
    "\n",
    "def one_step_up_working_directory():\n",
    "    os.chdir(\"../\")\n",
    "    new_directory = os.getcwd()\n",
    "    print(\"Patrick's new current working directory is:\", new_directory)\n",
    "\n",
    "# Now we show Patrick's new current working directory\n",
    "one_step_up_working_directory()"
   ]
  },
  {
   "cell_type": "code",
   "execution_count": 5,
   "metadata": {},
   "outputs": [
    {
     "name": "stdout",
     "output_type": "stream",
     "text": [
      "Patrick's Current working directory is set to: C:\\Users\\patme\\OneDrive\\Desktop\\Data_Science\\Python\\codes\\Philant_Tutorials\n"
     ]
    }
   ],
   "source": [
    "# Setting back the working directory back to the original folder\n",
    "\n",
    "import os\n",
    "\n",
    "def set_working_directory(folder_path):\n",
    "    os.chdir(folder_path)\n",
    "    new_directory = os.getcwd()\n",
    "    print(\"Patrick's Current working directory is set to:\", new_directory)\n",
    "\n",
    "# Set the working directory back to the original folder\n",
    "folder_path = r\"C:\\Users\\patme\\OneDrive\\Desktop\\Data_Science\\Python\\codes\\Philant_Tutorials\"\n",
    "set_working_directory(folder_path)\n"
   ]
  },
  {
   "cell_type": "code",
   "execution_count": 6,
   "metadata": {},
   "outputs": [
    {
     "name": "stdout",
     "output_type": "stream",
     "text": [
      ".git\n",
      "01 Navigate the file System with the OS module.ipynb\n",
      "02_Using the OS module to uncover path and file.ipynb\n",
      "03_Filter path names with the glob module.ipynb\n",
      "04_Recursively list all files in a directory.ipynb\n",
      "05_Understand Pyhton new pathlib.ipynb\n",
      "06_Creating a working directory in python.ipynb\n",
      "07_Counting files.ipynb\n",
      "08_Setting up a working directory.ipynb\n",
      "09_Finding all txt files in the folder.ipynb\n",
      "10_Opening a file.ipynb\n",
      "11_Reading a txt file.ipynb\n",
      "12_Parsing JSON file with python.ipynb\n",
      "Reading csv file in python.ipynb\n"
     ]
    }
   ],
   "source": [
    "# Writing a funtion to display all the items in the folder\n",
    "\n",
    "import os\n",
    "\n",
    "def display_all_entries_in_directory(directory):\n",
    "    with os.scandir(directory) as entries:\n",
    "        for entry in entries:\n",
    "            print(entry.name)\n",
    "\n",
    "# Providing the directory path you want to display entries for\n",
    "directory_path = r\"C:\\Users\\patme\\OneDrive\\Desktop\\Data_Science\\Python\\codes\\Philant_Tutorials\"\n",
    "\n",
    "### To display all the files in the directory. \n",
    "display_all_entries_in_directory(directory_path)"
   ]
  },
  {
   "cell_type": "code",
   "execution_count": 7,
   "metadata": {},
   "outputs": [
    {
     "name": "stdout",
     "output_type": "stream",
     "text": [
      "Patrick's Current working directory is set to: C:\\Users\\patme\\OneDrive\\Desktop\\Data_Science\\Python\\data\n"
     ]
    }
   ],
   "source": [
    "\n",
    "# Setting a new working directory\n",
    "\n",
    "import os\n",
    "\n",
    "def set_working_directory(folder_path):\n",
    "    os.chdir(folder_path)\n",
    "    new_directory = os.getcwd()\n",
    "    print(\"Patrick's Current working directory is set to:\", new_directory)\n",
    "\n",
    "# Set the working directory back to the original folder\n",
    "folder_path = r\"C:\\Users\\patme\\OneDrive\\Desktop\\Data_Science\\Python\\data\"\n",
    "set_working_directory(folder_path)\n",
    "\n",
    "\n",
    "\n"
   ]
  }
 ],
 "metadata": {
  "kernelspec": {
   "display_name": "Python 3",
   "language": "python",
   "name": "python3"
  },
  "language_info": {
   "codemirror_mode": {
    "name": "ipython",
    "version": 3
   },
   "file_extension": ".py",
   "mimetype": "text/x-python",
   "name": "python",
   "nbconvert_exporter": "python",
   "pygments_lexer": "ipython3",
   "version": "3.12.2"
  }
 },
 "nbformat": 4,
 "nbformat_minor": 2
}
